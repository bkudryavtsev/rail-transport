{
 "cells": [
  {
   "cell_type": "code",
   "execution_count": 198,
   "id": "coordinated-abuse",
   "metadata": {},
   "outputs": [],
   "source": [
    "import numpy as np\n",
    "import pandas as pd"
   ]
  },
  {
   "cell_type": "code",
   "execution_count": 199,
   "id": "restricted-basin",
   "metadata": {},
   "outputs": [],
   "source": [
    "dfs = [\n",
    "    pd.read_csv('pop.csv'),\n",
    "    pd.read_csv('rail_inf.csv'),\n",
    "    pd.read_csv('gdp.csv'),\n",
    "    pd.read_csv('co2_emissions.csv'),\n",
    "    pd.read_csv('rail_transport.csv'),\n",
    "    pd.read_csv('road_deaths.csv')\n",
    "]"
   ]
  },
  {
   "cell_type": "code",
   "execution_count": 200,
   "id": "wireless-reduction",
   "metadata": {},
   "outputs": [],
   "source": [
    "def format_columns(df):\n",
    "    # rename Value to indicator \n",
    "    value_name = df.iloc[0, df.columns.get_loc('INDICATOR')]\n",
    "    df.rename(columns={ 'Value': value_name }, inplace=True)\n",
    "    \n",
    "    # drop\n",
    "    df.drop(columns=['INDICATOR', 'FREQUENCY', 'Flag Codes'], inplace=True)\n",
    "    \n",
    "    # move TIME to front\n",
    "    time_col = df.pop('TIME')\n",
    "    df.insert(1, 'TIME', time_col)\n",
    "    return value_name"
   ]
  },
  {
   "cell_type": "code",
   "execution_count": 201,
   "id": "magnetic-baseline",
   "metadata": {},
   "outputs": [],
   "source": [
    "details_rows = []\n",
    "\n",
    "for df in dfs:\n",
    "    value_name = format_columns(df)\n",
    "    subject = df.pop('SUBJECT')[0]\n",
    "    measure = df.pop('MEASURE')[0]\n",
    "    details_rows.append([value_name, subject, measure])\n",
    "    \n",
    "details = pd.DataFrame(np.array(details_rows), columns=['NAME', 'SUBJECT', 'MEASURE'])"
   ]
  },
  {
   "cell_type": "code",
   "execution_count": 202,
   "id": "proved-bikini",
   "metadata": {},
   "outputs": [],
   "source": [
    "result = dfs[0].copy()\n",
    "\n",
    "for i in range(1, len(dfs)):\n",
    "    result = pd.merge(result, dfs[i], how='inner', on=['LOCATION', 'TIME'])"
   ]
  },
  {
   "cell_type": "code",
   "execution_count": 203,
   "id": "alternate-silver",
   "metadata": {},
   "outputs": [],
   "source": [
    "result.dropna(inplace=True)"
   ]
  },
  {
   "cell_type": "code",
   "execution_count": 204,
   "id": "characteristic-century",
   "metadata": {},
   "outputs": [],
   "source": [
    "result.to_csv('merged.csv', index=False)\n",
    "details.to_csv('indicator_details.csv', index=False)"
   ]
  },
  {
   "cell_type": "code",
   "execution_count": 207,
   "id": "better-vegetable",
   "metadata": {},
   "outputs": [
    {
     "data": {
      "text/plain": [
       "array(['AUS', 'AUT', 'BEL', 'CAN', 'CZE', 'DNK', 'FIN', 'FRA', 'DEU',\n",
       "       'GRC', 'HUN', 'IRL', 'ITA', 'JPN', 'KOR', 'LUX', 'MEX', 'NLD',\n",
       "       'NOR', 'POL', 'PRT', 'SVK', 'ESP', 'SWE', 'CHE', 'TUR', 'GBR',\n",
       "       'USA', 'EST', 'RUS', 'SVN', 'IND', 'LVA', 'BGR', 'HRV', 'LTU',\n",
       "       'ROU'], dtype=object)"
      ]
     },
     "execution_count": 207,
     "metadata": {},
     "output_type": "execute_result"
    }
   ],
   "source": [
    "result['LOCATION'].unique()"
   ]
  },
  {
   "cell_type": "code",
   "execution_count": null,
   "id": "liable-reward",
   "metadata": {},
   "outputs": [],
   "source": []
  }
 ],
 "metadata": {
  "kernelspec": {
   "display_name": "Python 3",
   "language": "python",
   "name": "python3"
  },
  "language_info": {
   "codemirror_mode": {
    "name": "ipython",
    "version": 3
   },
   "file_extension": ".py",
   "mimetype": "text/x-python",
   "name": "python",
   "nbconvert_exporter": "python",
   "pygments_lexer": "ipython3",
   "version": "3.9.1"
  }
 },
 "nbformat": 4,
 "nbformat_minor": 5
}
