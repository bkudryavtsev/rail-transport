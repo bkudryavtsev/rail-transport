{
 "cells": [
  {
   "cell_type": "code",
   "execution_count": 109,
   "id": "radio-flavor",
   "metadata": {},
   "outputs": [],
   "source": [
    "import numpy as np\n",
    "import pandas as pd"
   ]
  },
  {
   "cell_type": "code",
   "execution_count": 110,
   "id": "muslim-carry",
   "metadata": {},
   "outputs": [],
   "source": [
    "dfs = [\n",
    "    pd.read_csv('gdp.csv'),\n",
    "    pd.read_csv('co2_emissions.csv'),\n",
    "    pd.read_csv('rail_inf.csv'),\n",
    "    pd.read_csv('pop.csv'),\n",
    "    pd.read_csv('rail_transport.csv'),\n",
    "    pd.read_csv('road_deaths.csv')\n",
    "]"
   ]
  },
  {
   "cell_type": "code",
   "execution_count": 111,
   "id": "distributed-tours",
   "metadata": {},
   "outputs": [],
   "source": [
    "def format_columns(df):\n",
    "    # rename Value to indicator \n",
    "    value_name = df.iloc[0, df.columns.get_loc('INDICATOR')]\n",
    "    df.rename(columns={ 'Value': value_name }, inplace=True)\n",
    "    \n",
    "    # drop\n",
    "    df.drop(columns=['INDICATOR', 'FREQUENCY', 'Flag Codes'], inplace=True)\n",
    "    \n",
    "    # move TIME to front\n",
    "    time_col = df.pop('TIME')\n",
    "    df.insert(1, 'TIME', time_col)\n",
    "    return value_name"
   ]
  },
  {
   "cell_type": "code",
   "execution_count": 112,
   "id": "meaning-garden",
   "metadata": {},
   "outputs": [],
   "source": [
    "details_rows = []\n",
    "\n",
    "for df in dfs:\n",
    "    value_name = format_columns(df)\n",
    "    subject = df.pop('SUBJECT')[0]\n",
    "    measure = df.pop('MEASURE')[0]\n",
    "    details_rows.append([value_name, subject, measure])"
   ]
  },
  {
   "cell_type": "code",
   "execution_count": 113,
   "id": "stock-stuff",
   "metadata": {},
   "outputs": [],
   "source": [
    "details = pd.DataFrame(np.array(details_rows), columns=['NAME', 'SUBJECT', 'MEASURE'])"
   ]
  },
  {
   "cell_type": "code",
   "execution_count": 115,
   "id": "single-burke",
   "metadata": {},
   "outputs": [
    {
     "data": {
      "text/html": [
       "<div>\n",
       "<style scoped>\n",
       "    .dataframe tbody tr th:only-of-type {\n",
       "        vertical-align: middle;\n",
       "    }\n",
       "\n",
       "    .dataframe tbody tr th {\n",
       "        vertical-align: top;\n",
       "    }\n",
       "\n",
       "    .dataframe thead th {\n",
       "        text-align: right;\n",
       "    }\n",
       "</style>\n",
       "<table border=\"1\" class=\"dataframe\">\n",
       "  <thead>\n",
       "    <tr style=\"text-align: right;\">\n",
       "      <th></th>\n",
       "      <th>LOCATION</th>\n",
       "      <th>TIME</th>\n",
       "      <th>GDP</th>\n",
       "    </tr>\n",
       "  </thead>\n",
       "  <tbody>\n",
       "    <tr>\n",
       "      <th>0</th>\n",
       "      <td>AUS</td>\n",
       "      <td>1995</td>\n",
       "      <td>402481.437</td>\n",
       "    </tr>\n",
       "    <tr>\n",
       "      <th>1</th>\n",
       "      <td>AUS</td>\n",
       "      <td>1996</td>\n",
       "      <td>423181.512</td>\n",
       "    </tr>\n",
       "    <tr>\n",
       "      <th>2</th>\n",
       "      <td>AUS</td>\n",
       "      <td>1997</td>\n",
       "      <td>449576.869</td>\n",
       "    </tr>\n",
       "    <tr>\n",
       "      <th>3</th>\n",
       "      <td>AUS</td>\n",
       "      <td>1998</td>\n",
       "      <td>476921.510</td>\n",
       "    </tr>\n",
       "    <tr>\n",
       "      <th>4</th>\n",
       "      <td>AUS</td>\n",
       "      <td>1999</td>\n",
       "      <td>509779.868</td>\n",
       "    </tr>\n",
       "    <tr>\n",
       "      <th>...</th>\n",
       "      <td>...</td>\n",
       "      <td>...</td>\n",
       "      <td>...</td>\n",
       "    </tr>\n",
       "    <tr>\n",
       "      <th>1371</th>\n",
       "      <td>SGP</td>\n",
       "      <td>2014</td>\n",
       "      <td>461712.944</td>\n",
       "    </tr>\n",
       "    <tr>\n",
       "      <th>1372</th>\n",
       "      <td>SGP</td>\n",
       "      <td>2015</td>\n",
       "      <td>481393.137</td>\n",
       "    </tr>\n",
       "    <tr>\n",
       "      <th>1373</th>\n",
       "      <td>SGP</td>\n",
       "      <td>2016</td>\n",
       "      <td>501247.434</td>\n",
       "    </tr>\n",
       "    <tr>\n",
       "      <th>1374</th>\n",
       "      <td>SGP</td>\n",
       "      <td>2017</td>\n",
       "      <td>532832.748</td>\n",
       "    </tr>\n",
       "    <tr>\n",
       "      <th>1375</th>\n",
       "      <td>SGP</td>\n",
       "      <td>2018</td>\n",
       "      <td>571120.252</td>\n",
       "    </tr>\n",
       "  </tbody>\n",
       "</table>\n",
       "<p>1376 rows × 3 columns</p>\n",
       "</div>"
      ],
      "text/plain": [
       "     LOCATION  TIME         GDP\n",
       "0         AUS  1995  402481.437\n",
       "1         AUS  1996  423181.512\n",
       "2         AUS  1997  449576.869\n",
       "3         AUS  1998  476921.510\n",
       "4         AUS  1999  509779.868\n",
       "...       ...   ...         ...\n",
       "1371      SGP  2014  461712.944\n",
       "1372      SGP  2015  481393.137\n",
       "1373      SGP  2016  501247.434\n",
       "1374      SGP  2017  532832.748\n",
       "1375      SGP  2018  571120.252\n",
       "\n",
       "[1376 rows x 3 columns]"
      ]
     },
     "execution_count": 115,
     "metadata": {},
     "output_type": "execute_result"
    }
   ],
   "source": []
  },
  {
   "cell_type": "code",
   "execution_count": null,
   "id": "trying-machinery",
   "metadata": {},
   "outputs": [],
   "source": [
    "country_codes = pd.read_csv()"
   ]
  }
 ],
 "metadata": {
  "kernelspec": {
   "display_name": "Python 3",
   "language": "python",
   "name": "python3"
  },
  "language_info": {
   "codemirror_mode": {
    "name": "ipython",
    "version": 3
   },
   "file_extension": ".py",
   "mimetype": "text/x-python",
   "name": "python",
   "nbconvert_exporter": "python",
   "pygments_lexer": "ipython3",
   "version": "3.9.1"
  }
 },
 "nbformat": 4,
 "nbformat_minor": 5
}
